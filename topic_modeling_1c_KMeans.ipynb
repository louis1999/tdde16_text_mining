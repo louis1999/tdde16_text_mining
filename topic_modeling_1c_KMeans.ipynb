{
 "cells": [
  {
   "cell_type": "code",
   "execution_count": null,
   "metadata": {},
   "outputs": [],
   "source": [
    "# basic pre processing + tfidf vectorizer + Kmeans     With cross val"
   ]
  },
  {
   "cell_type": "code",
   "execution_count": 35,
   "metadata": {},
   "outputs": [],
   "source": [
    "import pandas as pd"
   ]
  },
  {
   "cell_type": "code",
   "execution_count": 36,
   "metadata": {},
   "outputs": [],
   "source": [
    "import csv\n",
    "from sklearn.model_selection import train_test_split\n",
    "\n",
    "df = pd.read_csv(\"train.csv\", lineterminator='\\n')"
   ]
  },
  {
   "cell_type": "code",
   "execution_count": 37,
   "metadata": {},
   "outputs": [
    {
     "name": "stdout",
     "output_type": "stream",
     "text": [
      "(20800, 5)\n",
      "(18843, 5)\n",
      "(18285, 5)\n"
     ]
    }
   ],
   "source": [
    "print(df.shape)\n",
    "\n",
    "df.dropna(subset = [\"author\"], inplace=True) # removing the nan rows for author\n",
    "print(df.shape)\n",
    "\n",
    "df.dropna(subset = [\"title\"], inplace=True) # removing the null rows for title\n",
    "\n",
    "\n",
    "print(df.shape)"
   ]
  },
  {
   "cell_type": "code",
   "execution_count": 38,
   "metadata": {},
   "outputs": [],
   "source": [
    "from sklearn.feature_extraction.text import TfidfVectorizer\n",
    "from sklearn.compose import make_column_transformer # for vectorizing multiple columns at the same time\n",
    "\n",
    "vectorizer = TfidfVectorizer(stop_words=\"english\")\n",
    "\n",
    "\n",
    "\n",
    "\n",
    "X = df[[\"title\", \"author\", \"text\"]]\n",
    "\n",
    "\n",
    "ct = make_column_transformer((vectorizer, \"title\"), (vectorizer, \"author\"), (vectorizer, \"text\") )\n",
    "\n",
    "\n",
    "y = df.iloc[:, 4:5]\n"
   ]
  },
  {
   "cell_type": "code",
   "execution_count": 39,
   "metadata": {},
   "outputs": [],
   "source": [
    "from sklearn.pipeline import make_pipeline\n",
    "from sklearn.cluster import KMeans\n",
    "\n",
    "kmeans = KMeans(n_clusters=2, n_init=2)\n",
    "clf = make_pipeline(ct, kmeans)"
   ]
  },
  {
   "cell_type": "code",
   "execution_count": 40,
   "metadata": {},
   "outputs": [
    {
     "name": "stdout",
     "output_type": "stream",
     "text": [
      "              precision    recall  f1-score   support\n",
      "\n",
      "           0       0.34      0.40      0.37      1031\n",
      "           1       0.00      0.00      0.00       798\n",
      "\n",
      "    accuracy                           0.22      1829\n",
      "   macro avg       0.17      0.20      0.18      1829\n",
      "weighted avg       0.19      0.22      0.21      1829\n",
      "\n",
      "              precision    recall  f1-score   support\n",
      "\n",
      "           0       0.35      0.43      0.39      1017\n",
      "           1       0.00      0.00      0.00       812\n",
      "\n",
      "    accuracy                           0.24      1829\n",
      "   macro avg       0.18      0.22      0.20      1829\n",
      "weighted avg       0.20      0.24      0.22      1829\n",
      "\n",
      "              precision    recall  f1-score   support\n",
      "\n",
      "           0       1.00      0.61      0.76      1081\n",
      "           1       0.64      1.00      0.78       748\n",
      "\n",
      "    accuracy                           0.77      1829\n",
      "   macro avg       0.82      0.80      0.77      1829\n",
      "weighted avg       0.85      0.77      0.77      1829\n",
      "\n",
      "              precision    recall  f1-score   support\n",
      "\n",
      "           0       1.00      0.59      0.74      1047\n",
      "           1       0.64      1.00      0.78       782\n",
      "\n",
      "    accuracy                           0.76      1829\n",
      "   macro avg       0.82      0.79      0.76      1829\n",
      "weighted avg       0.84      0.76      0.76      1829\n",
      "\n",
      "              precision    recall  f1-score   support\n",
      "\n",
      "           0       0.31      0.36      0.34      1018\n",
      "           1       0.00      0.00      0.00       811\n",
      "\n",
      "    accuracy                           0.20      1829\n",
      "   macro avg       0.16      0.18      0.17      1829\n",
      "weighted avg       0.18      0.20      0.19      1829\n",
      "\n",
      "              precision    recall  f1-score   support\n",
      "\n",
      "           0       1.00      0.60      0.75      1015\n",
      "           1       0.67      1.00      0.80       813\n",
      "\n",
      "    accuracy                           0.78      1828\n",
      "   macro avg       0.83      0.80      0.77      1828\n",
      "weighted avg       0.85      0.78      0.77      1828\n",
      "\n",
      "              precision    recall  f1-score   support\n",
      "\n",
      "           0       1.00      0.62      0.76      1044\n",
      "           1       0.66      1.00      0.79       784\n",
      "\n",
      "    accuracy                           0.78      1828\n",
      "   macro avg       0.83      0.81      0.78      1828\n",
      "weighted avg       0.85      0.78      0.78      1828\n",
      "\n",
      "              precision    recall  f1-score   support\n",
      "\n",
      "           0       1.00      0.58      0.74      1074\n",
      "           1       0.63      1.00      0.77       754\n",
      "\n",
      "    accuracy                           0.75      1828\n",
      "   macro avg       0.81      0.79      0.75      1828\n",
      "weighted avg       0.84      0.75      0.75      1828\n",
      "\n",
      "              precision    recall  f1-score   support\n",
      "\n",
      "           0       0.34      0.39      0.36      1032\n",
      "           1       0.00      0.00      0.00       796\n",
      "\n",
      "    accuracy                           0.22      1828\n",
      "   macro avg       0.17      0.20      0.18      1828\n",
      "weighted avg       0.19      0.22      0.20      1828\n",
      "\n",
      "              precision    recall  f1-score   support\n",
      "\n",
      "           0       0.32      0.38      0.35      1002\n",
      "           1       0.00      0.00      0.00       826\n",
      "\n",
      "    accuracy                           0.21      1828\n",
      "   macro avg       0.16      0.19      0.17      1828\n",
      "weighted avg       0.18      0.21      0.19      1828\n",
      "\n",
      "[0.22416621 0.2427556  0.76981957 0.76216512 0.20284308 0.77680525\n",
      " 0.77954048 0.75382932 0.21991247 0.21115974]\n"
     ]
    }
   ],
   "source": [
    "from sklearn.model_selection import cross_val_score\n",
    "from sklearn.metrics import classification_report, accuracy_score, make_scorer\n",
    "# Code from : https://stackoverflow.com/questions/42562146/classification-report-with-nested-cross-validation-in-sklearn-average-individua\n",
    "def classification_report_with_accuracy_score(y_true, y_pred):\n",
    "    print(classification_report(y_true, y_pred)) # print classification report\n",
    "    return accuracy_score(y_true, y_pred) # return accuracy score\n",
    "\n",
    "scores = cross_val_score(clf, X, y, cv=10,scoring=make_scorer(classification_report_with_accuracy_score))\n",
    "print(scores)"
   ]
  },
  {
   "cell_type": "code",
   "execution_count": 42,
   "metadata": {},
   "outputs": [
    {
     "name": "stdout",
     "output_type": "stream",
     "text": [
      "0.49429968547100983\n"
     ]
    }
   ],
   "source": [
    "import numpy as np\n",
    "print(np.average(scores))"
   ]
  },
  {
   "cell_type": "code",
   "execution_count": 43,
   "metadata": {},
   "outputs": [
    {
     "name": "stdout",
     "output_type": "stream",
     "text": [
      "0.07528404794038254\n"
     ]
    }
   ],
   "source": [
    "print(np.var(scores))\n"
   ]
  },
  {
   "cell_type": "code",
   "execution_count": 46,
   "metadata": {},
   "outputs": [
    {
     "name": "stdout",
     "output_type": "stream",
     "text": [
      "0.27437938687223307\n"
     ]
    }
   ],
   "source": [
    "print(np.std(scores))\n"
   ]
  },
  {
   "cell_type": "code",
   "execution_count": 1,
   "metadata": {},
   "outputs": [
    {
     "name": "stdout",
     "output_type": "stream",
     "text": [
      "0.517\n",
      "0.493\n"
     ]
    }
   ],
   "source": [
    "#precision\n",
    "import numpy\n",
    "print(numpy.average([0.19, 0.20, 0.85, 0.84, 0.18, 0.85, 0.85, 0.84, 0.19, 0.18]))\n",
    "# recall\n",
    "print(numpy.average([0.22, 0.24, 0.77, 0.76, 0.20, 0.78, 0.78, 0.75, 0.22, 0.21]))"
   ]
  },
  {
   "cell_type": "code",
   "execution_count": null,
   "metadata": {},
   "outputs": [],
   "source": []
  }
 ],
 "metadata": {
  "kernelspec": {
   "display_name": "Python 3",
   "language": "python",
   "name": "python3"
  },
  "language_info": {
   "codemirror_mode": {
    "name": "ipython",
    "version": 3
   },
   "file_extension": ".py",
   "mimetype": "text/x-python",
   "name": "python",
   "nbconvert_exporter": "python",
   "pygments_lexer": "ipython3",
   "version": "3.8.10"
  }
 },
 "nbformat": 4,
 "nbformat_minor": 4
}
