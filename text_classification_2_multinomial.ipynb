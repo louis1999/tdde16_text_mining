{
 "cells": [
  {
   "cell_type": "code",
   "execution_count": null,
   "metadata": {},
   "outputs": [],
   "source": [
    "# normal pre processing + count vectorizer + multinomial"
   ]
  },
  {
   "cell_type": "code",
   "execution_count": 1,
   "metadata": {},
   "outputs": [],
   "source": [
    "import pandas as pd\n",
    "import csv\n",
    "from sklearn.model_selection import train_test_split\n",
    "\n",
    "df = pd.read_csv(\"train.csv\", lineterminator='\\n')\n"
   ]
  },
  {
   "cell_type": "code",
   "execution_count": 2,
   "metadata": {},
   "outputs": [
    {
     "name": "stdout",
     "output_type": "stream",
     "text": [
      "(20800, 5)\n",
      "(18843, 5)\n",
      "(18285, 5)\n"
     ]
    }
   ],
   "source": [
    "print(df.shape)\n",
    "\n",
    "df.dropna(subset = [\"author\"], inplace=True) # removing the nan rows for author\n",
    "print(df.shape)\n",
    "\n",
    "df.dropna(subset = [\"title\"], inplace=True) # removing the null rows for title\n",
    "\n",
    "\n",
    "print(df.shape)"
   ]
  },
  {
   "cell_type": "code",
   "execution_count": 3,
   "metadata": {},
   "outputs": [
    {
     "data": {
      "text/plain": [
       "['Apple', 'look', 'buy', 'startup', 'billion']"
      ]
     },
     "execution_count": 3,
     "metadata": {},
     "output_type": "execute_result"
    }
   ],
   "source": [
    "import spacy\n",
    "# This code is almost exactly the same as the one in my lab 1\n",
    "# removing stop words\n",
    "nlp = spacy.load('en_core_web_sm')\n",
    "\n",
    "\n",
    "def tokens(text):\n",
    "    doc = nlp(text)\n",
    "    return [t.lemma_ for t in doc if not t.is_stop and t.is_alpha]\n",
    "\n",
    "def preprocess(text):\n",
    "    # TODO: Replace the next line with your own code.\n",
    "    return tokens(text)\n",
    "\n",
    "# lemmatization\n",
    "preprocess('Apple is looking at buying U.K. startup for $1 billion')\n"
   ]
  },
  {
   "cell_type": "code",
   "execution_count": 4,
   "metadata": {},
   "outputs": [],
   "source": [
    "df_train, df_test = train_test_split(df, test_size=0.2)"
   ]
  },
  {
   "cell_type": "code",
   "execution_count": 5,
   "metadata": {},
   "outputs": [],
   "source": [
    "from sklearn.feature_extraction.text import CountVectorizer\n",
    "from sklearn.compose import make_column_transformer # for vectorizing multiple columns at the same time\n",
    "\n",
    "vectorizer = CountVectorizer(tokenizer=preprocess)\n",
    "\n",
    "X_train = df_train[[\"title\", \"author\", \"text\"]]\n",
    "X_test = df_test[[\"title\", \"author\", \"text\"]]\n",
    "\n",
    "\n",
    "ct = make_column_transformer((vectorizer, \"title\"), (vectorizer, \"author\"), (vectorizer, \"text\") )\n",
    "\n",
    "X_train_vectorized = ct.fit_transform(X_train)\n",
    "X_test_vectorized = ct.transform(X_test)\n",
    "\n",
    "\n",
    "y_train = df_train.iloc[:, 4:5]\n",
    "y_test = df_test.iloc[:, 4:5]"
   ]
  },
  {
   "cell_type": "code",
   "execution_count": 9,
   "metadata": {},
   "outputs": [],
   "source": [
    "\n",
    "from scipy import sparse\n",
    "\n",
    "sparse.save_npz(\"X_train_vectorized_df.npz\", pd.DataFrame(X_train_vectorized.toarray()))\n",
    "sparse.save_npz(\"X_test_vectorized_df.npz\", pd.DataFrame(X_est_vectorized.toarray()))\n",
    "sparse.save_npz(\"y_train.npz\", y_train)\n",
    "sparse.save_npz(\"y_test.npz\", y_train)\n"
   ]
  },
  {
   "cell_type": "code",
   "execution_count": 10,
   "metadata": {},
   "outputs": [],
   "source": [
    "# NOT WORKING\n",
    "\n",
    "\n",
    "# save data (X_train_vectorized & X_test_vectorized)\n",
    "\n",
    "import pickle\n",
    "\n",
    "# pickle.dump(vectorizer, open(\"vectorizer.pickle\", \"wb\"))\n",
    "# pickle.dump(X_train_vectorized, open(\"X_train_vectorized.pickle\", \"wb\"))\n",
    "# pickle.dump(X_test_vectorized, open(\"X_test_vectorized.pickle\", \"wb\"))\n",
    "#X_train_vectorized.to_pickle(\"./X_train_vectorized.pkl\")\n",
    "#X_test_vectorized.to_pickle(\"./X_test_vectorized.pkl\")\n",
    "#vectorizer.to_pickle(\"./vectorizer.pkl\")\n",
    "\n",
    "#x_train.to_pickle(\"./x_train_10000kbest_minmaxscaler.pkl\")\n",
    "#x_test.to_pickle(\"./x_test_10000kbest_minmaxscaler.pkl\")\n"
   ]
  },
  {
   "cell_type": "code",
   "execution_count": 11,
   "metadata": {},
   "outputs": [],
   "source": [
    "from sklearn.naive_bayes import MultinomialNB # needs discrete number\n",
    "clf = MultinomialNB()"
   ]
  },
  {
   "cell_type": "code",
   "execution_count": 12,
   "metadata": {},
   "outputs": [
    {
     "name": "stdout",
     "output_type": "stream",
     "text": [
      "<class 'pandas.core.frame.DataFrame'>\n",
      "<class 'pandas.core.frame.DataFrame'>\n"
     ]
    }
   ],
   "source": [
    "\n",
    "X_train_vectorized_df = pd.DataFrame(X_train_vectorized.toarray())\n",
    "X_test_vectorized_df = pd.DataFrame(X_test_vectorized.toarray())\n",
    "print(type(X_train_vectorized_df))\n",
    "print(type(y_train))"
   ]
  },
  {
   "cell_type": "code",
   "execution_count": 13,
   "metadata": {},
   "outputs": [
    {
     "name": "stderr",
     "output_type": "stream",
     "text": [
      "/home/louda622/.local/lib/python3.8/site-packages/sklearn/utils/validation.py:993: DataConversionWarning: A column-vector y was passed when a 1d array was expected. Please change the shape of y to (n_samples, ), for example using ravel().\n",
      "  y = column_or_1d(y, warn=True)\n"
     ]
    },
    {
     "data": {
      "text/plain": [
       "MultinomialNB()"
      ]
     },
     "execution_count": 13,
     "metadata": {},
     "output_type": "execute_result"
    }
   ],
   "source": [
    "clf.fit(X_train_vectorized, y_train)"
   ]
  },
  {
   "cell_type": "code",
   "execution_count": 14,
   "metadata": {},
   "outputs": [
    {
     "name": "stdout",
     "output_type": "stream",
     "text": [
      "              precision    recall  f1-score   support\n",
      "\n",
      "           0       0.91      0.97      0.94      2073\n",
      "           1       0.96      0.88      0.92      1584\n",
      "\n",
      "    accuracy                           0.93      3657\n",
      "   macro avg       0.94      0.93      0.93      3657\n",
      "weighted avg       0.93      0.93      0.93      3657\n",
      "\n"
     ]
    }
   ],
   "source": [
    "from sklearn.metrics import classification_report\n",
    "y_pred = clf.predict(X_test_vectorized_df)\n",
    "print(classification_report(y_test, y_pred))"
   ]
  },
  {
   "cell_type": "code",
   "execution_count": 15,
   "metadata": {},
   "outputs": [
    {
     "name": "stdout",
     "output_type": "stream",
     "text": [
      "      0       1       2       3       4       5       6       7       8       \\\n",
      "0          0       0       0       0       0       0       0       0       0   \n",
      "1          0       0       0       0       0       0       0       0       0   \n",
      "2          0       0       0       0       0       0       0       0       0   \n",
      "3          0       0       0       0       0       0       0       0       0   \n",
      "4          0       0       0       0       0       0       0       0       0   \n",
      "...      ...     ...     ...     ...     ...     ...     ...     ...     ...   \n",
      "3652       0       0       0       0       0       0       0       0       0   \n",
      "3653       0       0       0       0       0       0       0       0       0   \n",
      "3654       0       0       0       0       0       0       0       0       0   \n",
      "3655       0       0       0       0       0       0       0       0       0   \n",
      "3656       0       0       0       0       0       0       0       0       0   \n",
      "\n",
      "      9       ...  137050  137051  137052  137053  137054  137055  137056  \\\n",
      "0          0  ...       0       0       0       0       0       0       0   \n",
      "1          0  ...       0       0       0       0       0       0       0   \n",
      "2          0  ...       0       0       0       0       0       0       0   \n",
      "3          0  ...       0       0       0       0       0       0       0   \n",
      "4          0  ...       0       0       0       0       0       0       0   \n",
      "...      ...  ...     ...     ...     ...     ...     ...     ...     ...   \n",
      "3652       0  ...       0       0       0       0       0       0       0   \n",
      "3653       0  ...       0       0       0       0       0       0       0   \n",
      "3654       0  ...       0       0       0       0       0       0       0   \n",
      "3655       0  ...       0       0       0       0       0       0       0   \n",
      "3656       0  ...       0       0       0       0       0       0       0   \n",
      "\n",
      "      137057  137058  137059  \n",
      "0          0       0       0  \n",
      "1          0       0       0  \n",
      "2          0       0       0  \n",
      "3          0       0       0  \n",
      "4          0       0       0  \n",
      "...      ...     ...     ...  \n",
      "3652       0       0       0  \n",
      "3653       0       0       0  \n",
      "3654       0       0       0  \n",
      "3655       0       0       0  \n",
      "3656       0       0       0  \n",
      "\n",
      "[3657 rows x 137060 columns]\n"
     ]
    }
   ],
   "source": [
    "print(X_test_vectorized_df)"
   ]
  },
  {
   "cell_type": "code",
   "execution_count": 16,
   "metadata": {},
   "outputs": [
    {
     "name": "stdout",
     "output_type": "stream",
     "text": [
      "       0       1       2       3       4       5       6       7       8       \\\n",
      "0           0       0       0       0       0       0       0       0       0   \n",
      "1           0       0       0       0       0       0       0       0       0   \n",
      "2           0       0       0       0       0       0       0       0       0   \n",
      "3           0       0       0       0       0       0       0       0       0   \n",
      "4           0       0       0       0       0       0       0       0       0   \n",
      "...       ...     ...     ...     ...     ...     ...     ...     ...     ...   \n",
      "14623       0       0       0       0       0       0       0       0       0   \n",
      "14624       0       0       0       0       0       0       0       0       0   \n",
      "14625       0       0       0       0       0       0       0       0       0   \n",
      "14626       0       0       0       0       0       0       0       0       0   \n",
      "14627       0       0       0       0       0       0       0       0       0   \n",
      "\n",
      "       9       ...  137050  137051  137052  137053  137054  137055  137056  \\\n",
      "0           0  ...       0       0       0       0       0       0       0   \n",
      "1           0  ...       0       0       0       0       0       0       0   \n",
      "2           0  ...       0       0       0       0       0       0       0   \n",
      "3           0  ...       0       0       0       0       0       0       0   \n",
      "4           0  ...       0       0       0       0       0       0       0   \n",
      "...       ...  ...     ...     ...     ...     ...     ...     ...     ...   \n",
      "14623       0  ...       0       0       0       0       0       0       0   \n",
      "14624       0  ...       0       0       0       0       0       0       0   \n",
      "14625       0  ...       0       0       0       0       0       0       0   \n",
      "14626       0  ...       0       0       0       0       0       0       0   \n",
      "14627       0  ...       0       0       0       0       0       0       0   \n",
      "\n",
      "       137057  137058  137059  \n",
      "0           0       0       0  \n",
      "1           0       0       0  \n",
      "2           0       0       0  \n",
      "3           0       0       0  \n",
      "4           0       0       0  \n",
      "...       ...     ...     ...  \n",
      "14623       0       0       0  \n",
      "14624       0       0       0  \n",
      "14625       0       0       0  \n",
      "14626       0       0       0  \n",
      "14627       0       0       0  \n",
      "\n",
      "[14628 rows x 137060 columns]\n"
     ]
    }
   ],
   "source": [
    "print(X_train_vectorized_df)"
   ]
  },
  {
   "cell_type": "code",
   "execution_count": null,
   "metadata": {},
   "outputs": [],
   "source": []
  },
  {
   "cell_type": "code",
   "execution_count": null,
   "metadata": {},
   "outputs": [],
   "source": []
  }
 ],
 "metadata": {
  "kernelspec": {
   "display_name": "Python 3",
   "language": "python",
   "name": "python3"
  },
  "language_info": {
   "codemirror_mode": {
    "name": "ipython",
    "version": 3
   },
   "file_extension": ".py",
   "mimetype": "text/x-python",
   "name": "python",
   "nbconvert_exporter": "python",
   "pygments_lexer": "ipython3",
   "version": "3.8.10"
  }
 },
 "nbformat": 4,
 "nbformat_minor": 4
}
