{
 "cells": [
  {
   "cell_type": "code",
   "execution_count": null,
   "metadata": {},
   "outputs": [],
   "source": [
    "# basic pre processing + tfidf vectorizer + Kmeans"
   ]
  },
  {
   "cell_type": "code",
   "execution_count": 46,
   "metadata": {},
   "outputs": [],
   "source": [
    "import pandas as pd"
   ]
  },
  {
   "cell_type": "code",
   "execution_count": 47,
   "metadata": {},
   "outputs": [
    {
     "data": {
      "text/html": [
       "<div>\n",
       "<style scoped>\n",
       "    .dataframe tbody tr th:only-of-type {\n",
       "        vertical-align: middle;\n",
       "    }\n",
       "\n",
       "    .dataframe tbody tr th {\n",
       "        vertical-align: top;\n",
       "    }\n",
       "\n",
       "    .dataframe thead th {\n",
       "        text-align: right;\n",
       "    }\n",
       "</style>\n",
       "<table border=\"1\" class=\"dataframe\">\n",
       "  <thead>\n",
       "    <tr style=\"text-align: right;\">\n",
       "      <th></th>\n",
       "      <th>id</th>\n",
       "      <th>title</th>\n",
       "      <th>author</th>\n",
       "      <th>text</th>\n",
       "      <th>label</th>\n",
       "    </tr>\n",
       "  </thead>\n",
       "  <tbody>\n",
       "    <tr>\n",
       "      <th>0</th>\n",
       "      <td>0</td>\n",
       "      <td>House Dem Aide: We Didn’t Even See Comey’s Let...</td>\n",
       "      <td>Darrell Lucus</td>\n",
       "      <td>House Dem Aide: We Didn’t Even See Comey’s Let...</td>\n",
       "      <td>1</td>\n",
       "    </tr>\n",
       "    <tr>\n",
       "      <th>1</th>\n",
       "      <td>1</td>\n",
       "      <td>FLYNN: Hillary Clinton, Big Woman on Campus - ...</td>\n",
       "      <td>Daniel J. Flynn</td>\n",
       "      <td>Ever get the feeling your life circles the rou...</td>\n",
       "      <td>0</td>\n",
       "    </tr>\n",
       "    <tr>\n",
       "      <th>2</th>\n",
       "      <td>2</td>\n",
       "      <td>Why the Truth Might Get You Fired</td>\n",
       "      <td>Consortiumnews.com</td>\n",
       "      <td>Why the Truth Might Get You Fired October 29, ...</td>\n",
       "      <td>1</td>\n",
       "    </tr>\n",
       "    <tr>\n",
       "      <th>3</th>\n",
       "      <td>3</td>\n",
       "      <td>15 Civilians Killed In Single US Airstrike Hav...</td>\n",
       "      <td>Jessica Purkiss</td>\n",
       "      <td>Videos 15 Civilians Killed In Single US Airstr...</td>\n",
       "      <td>1</td>\n",
       "    </tr>\n",
       "    <tr>\n",
       "      <th>4</th>\n",
       "      <td>4</td>\n",
       "      <td>Iranian woman jailed for fictional unpublished...</td>\n",
       "      <td>Howard Portnoy</td>\n",
       "      <td>Print \\nAn Iranian woman has been sentenced to...</td>\n",
       "      <td>1</td>\n",
       "    </tr>\n",
       "  </tbody>\n",
       "</table>\n",
       "</div>"
      ],
      "text/plain": [
       "   id                                              title              author  \\\n",
       "0   0  House Dem Aide: We Didn’t Even See Comey’s Let...       Darrell Lucus   \n",
       "1   1  FLYNN: Hillary Clinton, Big Woman on Campus - ...     Daniel J. Flynn   \n",
       "2   2                  Why the Truth Might Get You Fired  Consortiumnews.com   \n",
       "3   3  15 Civilians Killed In Single US Airstrike Hav...     Jessica Purkiss   \n",
       "4   4  Iranian woman jailed for fictional unpublished...      Howard Portnoy   \n",
       "\n",
       "                                                text  label  \n",
       "0  House Dem Aide: We Didn’t Even See Comey’s Let...      1  \n",
       "1  Ever get the feeling your life circles the rou...      0  \n",
       "2  Why the Truth Might Get You Fired October 29, ...      1  \n",
       "3  Videos 15 Civilians Killed In Single US Airstr...      1  \n",
       "4  Print \\nAn Iranian woman has been sentenced to...      1  "
      ]
     },
     "execution_count": 47,
     "metadata": {},
     "output_type": "execute_result"
    }
   ],
   "source": [
    "import csv\n",
    "from sklearn.model_selection import train_test_split\n",
    "\n",
    "df = pd.read_csv(\"train.csv\", lineterminator='\\n')\n",
    "df.head()"
   ]
  },
  {
   "cell_type": "code",
   "execution_count": 48,
   "metadata": {},
   "outputs": [
    {
     "name": "stdout",
     "output_type": "stream",
     "text": [
      "(20800, 5)\n",
      "(18843, 5)\n",
      "(18285, 5)\n"
     ]
    }
   ],
   "source": [
    "print(df.shape)\n",
    "\n",
    "df.dropna(subset = [\"author\"], inplace=True) # removing the nan rows for author\n",
    "print(df.shape)\n",
    "\n",
    "df.dropna(subset = [\"title\"], inplace=True) # removing the null rows for title\n",
    "\n",
    "\n",
    "print(df.shape)"
   ]
  },
  {
   "cell_type": "code",
   "execution_count": 49,
   "metadata": {},
   "outputs": [],
   "source": [
    "df_small = df[:2000]\n",
    "df_train, df_test = train_test_split(df, test_size=0.2)"
   ]
  },
  {
   "cell_type": "code",
   "execution_count": 50,
   "metadata": {},
   "outputs": [],
   "source": [
    "from sklearn.feature_extraction.text import TfidfVectorizer\n",
    "from sklearn.compose import make_column_transformer # for vectorizing multiple columns at the same time\n",
    "\n",
    "vectorizer = TfidfVectorizer(stop_words=\"english\")\n",
    "\n",
    "\n",
    "\n",
    "\n",
    "X_train = df_train[[\"title\", \"author\", \"text\"]]\n",
    "X_test = df_test[[\"title\", \"author\", \"text\"]]\n",
    "X_small = df_small[[\"title\", \"author\", \"text\"]]\n",
    "\n",
    "ct = make_column_transformer((vectorizer, \"title\"), (vectorizer, \"author\"), (vectorizer, \"text\") )\n",
    "\n",
    "#X_train_vectorized = ct.fit_transform(X_train)\n",
    "#X_test_vectorized = ct.transform(X_test)\n",
    "X_small_vectorized = ct.fit_transform(X_small)\n",
    "\n",
    "y_train = df_train.iloc[:, 4:5]\n",
    "y_test = df_test.iloc[:, 4:5]\n",
    "y_small = df_small.iloc[:, 4:5]"
   ]
  },
  {
   "cell_type": "code",
   "execution_count": 51,
   "metadata": {},
   "outputs": [
    {
     "name": "stdout",
     "output_type": "stream",
     "text": [
      "(14628, 3)\n",
      "(3657, 3)\n",
      "(14628, 1)\n",
      "(3657, 1)\n",
      "(2000, 3)\n",
      "(2000, 1)\n",
      "(2000, 60341)\n"
     ]
    }
   ],
   "source": [
    "print(X_train.shape)\n",
    "print(X_test.shape)\n",
    "print(y_train.shape)\n",
    "print(y_test.shape)\n",
    "print(X_small.shape)\n",
    "print(y_small.shape)\n",
    "print(X_small_vectorized.shape)"
   ]
  },
  {
   "cell_type": "code",
   "execution_count": 52,
   "metadata": {},
   "outputs": [
    {
     "name": "stdout",
     "output_type": "stream",
     "text": [
      "                                                  title              author  \\\n",
      "0     House Dem Aide: We Didn’t Even See Comey’s Let...       Darrell Lucus   \n",
      "1     FLYNN: Hillary Clinton, Big Woman on Campus - ...     Daniel J. Flynn   \n",
      "2                     Why the Truth Might Get You Fired  Consortiumnews.com   \n",
      "3     15 Civilians Killed In Single US Airstrike Hav...     Jessica Purkiss   \n",
      "4     Iranian woman jailed for fictional unpublished...      Howard Portnoy   \n",
      "...                                                 ...                 ...   \n",
      "2293                           The Anti-Police Epidemic     Dawn Perlmutter   \n",
      "2294  Study: Genital Mutilation Imposes Segregation ...     Dr. Susan Berry   \n",
      "2295  A Mission to Bring STEM Skills, and Robots, to...      Dionne Searcey   \n",
      "2296                Are We To Love Al-Qaeda Or Fear It?                   b   \n",
      "2297  Breitbart News Daily: Dutch Election Results -...      Breitbart News   \n",
      "\n",
      "                                                   text  \n",
      "0     House Dem Aide: We Didn’t Even See Comey’s Let...  \n",
      "1     Ever get the feeling your life circles the rou...  \n",
      "2     Why the Truth Might Get You Fired October 29, ...  \n",
      "3     Videos 15 Civilians Killed In Single US Airstr...  \n",
      "4     Print \\nAn Iranian woman has been sentenced to...  \n",
      "...                                                 ...  \n",
      "2293  Dawn Perlmutter \\nThe war on law enforcement i...  \n",
      "2294  The imported practice of genital mutilation ca...  \n",
      "2295  DAKAR, Senegal  —   One robot slammed into som...  \n",
      "2296  Sources: U.S. intel warning of possible al Qae...  \n",
      "2297  On the Thursday edition of Breitbart News Dail...  \n",
      "\n",
      "[2000 rows x 3 columns]\n",
      "      label\n",
      "0         1\n",
      "1         0\n",
      "2         1\n",
      "3         1\n",
      "4         1\n",
      "...     ...\n",
      "2293      1\n",
      "2294      0\n",
      "2295      0\n",
      "2296      1\n",
      "2297      0\n",
      "\n",
      "[2000 rows x 1 columns]\n"
     ]
    }
   ],
   "source": [
    "print(X_small)\n",
    "print(y_small)"
   ]
  },
  {
   "cell_type": "code",
   "execution_count": 53,
   "metadata": {},
   "outputs": [
    {
     "name": "stdout",
     "output_type": "stream",
     "text": [
      "[712, 1288]\n"
     ]
    }
   ],
   "source": [
    "from sklearn.cluster import KMeans\n",
    "kmeans = KMeans(n_clusters=2, n_init=2).fit(X_small_vectorized)\n",
    "labels = kmeans.labels_\n",
    "\n",
    "indices = [0,1]\n",
    "\n",
    "counter = [0, 0]\n",
    "for index in indices:\n",
    "    counter[index] =sum(labels == index)\n",
    "\n",
    "print(counter)"
   ]
  },
  {
   "cell_type": "code",
   "execution_count": 54,
   "metadata": {},
   "outputs": [
    {
     "name": "stdout",
     "output_type": "stream",
     "text": [
      "[1 1 1 ... 0 1 1]\n"
     ]
    }
   ],
   "source": [
    "print(labels)"
   ]
  },
  {
   "cell_type": "code",
   "execution_count": 55,
   "metadata": {},
   "outputs": [
    {
     "data": {
      "image/png": "[encoded data removed]",
      "text/plain": [
       "<Figure size 432x288 with 1 Axes>"
      ]
     },
     "metadata": {
      "needs_background": "light"
     },
     "output_type": "display_data"
    }
   ],
   "source": [
    "import matplotlib.pyplot as plt\n",
    " \n",
    "#filter rows of original data\n",
    " \n",
    "#plotting the results\n",
    "plt.bar(indices, counter)\n",
    "plt.show()\n"
   ]
  },
  {
   "cell_type": "code",
   "execution_count": 56,
   "metadata": {},
   "outputs": [
    {
     "name": "stdout",
     "output_type": "stream",
     "text": [
      "rand index =  0.6686148074037018\n"
     ]
    }
   ],
   "source": [
    "category=y_small\n",
    "a = 0 # a, the number of pairs of elements in S that are in the same subset in X and in the same subset in Y\n",
    "b = 0 # b, the number of pairs of elements in S that are in different subsets in X and in different subsets in Y\n",
    "c = 0 # c, the number of pairs of elements in S that are in the same subset in X and in different subsets in Y\n",
    "d = 0 # d, the number of pairs of elements in S that are in different subsets in X and in the same subset in Y\n",
    "\n",
    "\n",
    "for i in range (0,y_small.size):\n",
    "    for j in range (0,y_small.size):\n",
    "        if j>i:\n",
    "            # compare if thay have the same goal category and if they are in the same cluster\n",
    "         \n",
    "            if category.iloc[i][0] == category.iloc[j][0]:\n",
    "                \n",
    "                if labels[i] == labels[j]:\n",
    "                    a+=1\n",
    "                else:\n",
    "                    d+=1\n",
    "\n",
    "\n",
    "            else:\n",
    "                if labels[i] == labels[j]:\n",
    "                    c+=1\n",
    "                else:\n",
    "                    b+=1\n",
    "\n",
    "    rand_index = (a+b)/(a+b+c+d)\n",
    "\n",
    "print(\"rand index = \", rand_index)"
   ]
  },
  {
   "cell_type": "code",
   "execution_count": 57,
   "metadata": {},
   "outputs": [
    {
     "name": "stdout",
     "output_type": "stream",
     "text": [
      "<bound method NDFrame.head of       label\n",
      "0         1\n",
      "1         0\n",
      "2         1\n",
      "3         1\n",
      "4         1\n",
      "...     ...\n",
      "2293      1\n",
      "2294      0\n",
      "2295      0\n",
      "2296      1\n",
      "2297      0\n",
      "\n",
      "[2000 rows x 1 columns]>\n",
      "<bound method NDFrame.head of       0\n",
      "0     1\n",
      "1     1\n",
      "2     1\n",
      "3     1\n",
      "4     1\n",
      "...  ..\n",
      "1995  1\n",
      "1996  1\n",
      "1997  0\n",
      "1998  1\n",
      "1999  1\n",
      "\n",
      "[2000 rows x 1 columns]>\n"
     ]
    }
   ],
   "source": [
    "from sklearn.metrics import accuracy_score\n",
    "\n",
    "print(y_small.head)\n",
    "print(pd.DataFrame(labels).head)"
   ]
  },
  {
   "cell_type": "code",
   "execution_count": 58,
   "metadata": {},
   "outputs": [],
   "source": [
    "y_small = y_small.reset_index()\n"
   ]
  },
  {
   "cell_type": "code",
   "execution_count": 59,
   "metadata": {},
   "outputs": [
    {
     "name": "stdout",
     "output_type": "stream",
     "text": [
      "<bound method NDFrame.head of       label\n",
      "0         1\n",
      "1         0\n",
      "2         1\n",
      "3         1\n",
      "4         1\n",
      "...     ...\n",
      "1995      1\n",
      "1996      0\n",
      "1997      0\n",
      "1998      1\n",
      "1999      0\n",
      "\n",
      "[2000 rows x 1 columns]>\n"
     ]
    }
   ],
   "source": [
    "y_small = y_small[[\"label\"]]\n",
    "print(y_small.head)"
   ]
  },
  {
   "cell_type": "code",
   "execution_count": 60,
   "metadata": {},
   "outputs": [
    {
     "name": "stdout",
     "output_type": "stream",
     "text": [
      "0.7905\n"
     ]
    }
   ],
   "source": [
    "print(accuracy_score(y_small, pd.DataFrame(labels)))"
   ]
  },
  {
   "cell_type": "code",
   "execution_count": 61,
   "metadata": {},
   "outputs": [
    {
     "name": "stdout",
     "output_type": "stream",
     "text": [
      "              precision    recall  f1-score   support\n",
      "\n",
      "           0       1.00      0.63      0.77      1129\n",
      "           1       0.68      1.00      0.81       871\n",
      "\n",
      "    accuracy                           0.79      2000\n",
      "   macro avg       0.84      0.81      0.79      2000\n",
      "weighted avg       0.86      0.79      0.79      2000\n",
      "\n"
     ]
    }
   ],
   "source": [
    "from sklearn.metrics import classification_report\n",
    "print(classification_report(y_small, pd.DataFrame(labels)))"
   ]
  },
  {
   "cell_type": "code",
   "execution_count": null,
   "metadata": {},
   "outputs": [],
   "source": []
  }
 ],
 "metadata": {
  "kernelspec": {
   "display_name": "Python 3",
   "language": "python",
   "name": "python3"
  },
  "language_info": {
   "codemirror_mode": {
    "name": "ipython",
    "version": 3
   },
   "file_extension": ".py",
   "mimetype": "text/x-python",
   "name": "python",
   "nbconvert_exporter": "python",
   "pygments_lexer": "ipython3",
   "version": "3.8.10"
  }
 },
 "nbformat": 4,
 "nbformat_minor": 4
}
