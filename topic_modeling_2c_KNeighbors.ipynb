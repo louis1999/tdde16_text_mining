{
 "cells": [
  {
   "cell_type": "code",
   "execution_count": 1,
   "metadata": {},
   "outputs": [],
   "source": [
    "# basic pre processing + count vectorizer + KNeighborsClassifier + cross eval"
   ]
  },
  {
   "cell_type": "code",
   "execution_count": 2,
   "metadata": {},
   "outputs": [],
   "source": [
    "import pandas as pd"
   ]
  },
  {
   "cell_type": "code",
   "execution_count": 3,
   "metadata": {},
   "outputs": [],
   "source": [
    "import csv\n",
    "from sklearn.model_selection import train_test_split\n",
    "\n",
    "df = pd.read_csv(\"train.csv\", lineterminator='\\n')"
   ]
  },
  {
   "cell_type": "code",
   "execution_count": 4,
   "metadata": {},
   "outputs": [
    {
     "name": "stdout",
     "output_type": "stream",
     "text": [
      "(20800, 5)\n",
      "(18843, 5)\n",
      "(18285, 5)\n"
     ]
    }
   ],
   "source": [
    "print(df.shape)\n",
    "\n",
    "df.dropna(subset = [\"author\"], inplace=True) # removing the nan rows for author\n",
    "print(df.shape)\n",
    "\n",
    "df.dropna(subset = [\"title\"], inplace=True) # removing the null rows for title\n",
    "\n",
    "\n",
    "print(df.shape)"
   ]
  },
  {
   "cell_type": "code",
   "execution_count": 5,
   "metadata": {},
   "outputs": [],
   "source": [
    "from sklearn.feature_extraction.text import CountVectorizer\n",
    "from sklearn.compose import make_column_transformer # for vectorizing multiple columns at the same time\n",
    "\n",
    "vectorizer = CountVectorizer(stop_words=\"english\")\n",
    "\n",
    "\n",
    "\n",
    "\n",
    "X = df[[\"title\", \"author\", \"text\"]]\n",
    "\n",
    "\n",
    "ct = make_column_transformer((vectorizer, \"title\"), (vectorizer, \"author\"), (vectorizer, \"text\") )\n",
    "\n",
    "\n",
    "y = df.iloc[:, 4:5]"
   ]
  },
  {
   "cell_type": "code",
   "execution_count": 6,
   "metadata": {},
   "outputs": [],
   "source": [
    "from sklearn.pipeline import make_pipeline\n",
    "from sklearn.neighbors import KNeighborsClassifier\n",
    "kn = KNeighborsClassifier(n_neighbors=3)\n",
    "clf = make_pipeline(ct, kn)"
   ]
  },
  {
   "cell_type": "code",
   "execution_count": 7,
   "metadata": {},
   "outputs": [
    {
     "name": "stderr",
     "output_type": "stream",
     "text": [
      "/home/louda622/.local/lib/python3.8/site-packages/sklearn/neighbors/_classification.py:198: DataConversionWarning: A column-vector y was passed when a 1d array was expected. Please change the shape of y to (n_samples,), for example using ravel().\n",
      "  return self._fit(X, y)\n"
     ]
    },
    {
     "name": "stdout",
     "output_type": "stream",
     "text": [
      "              precision    recall  f1-score   support\n",
      "\n",
      "           0       0.93      0.59      0.73      1036\n",
      "           1       0.64      0.95      0.76       793\n",
      "\n",
      "    accuracy                           0.75      1829\n",
      "   macro avg       0.79      0.77      0.74      1829\n",
      "weighted avg       0.81      0.75      0.74      1829\n",
      "\n"
     ]
    },
    {
     "name": "stderr",
     "output_type": "stream",
     "text": [
      "/home/louda622/.local/lib/python3.8/site-packages/sklearn/neighbors/_classification.py:198: DataConversionWarning: A column-vector y was passed when a 1d array was expected. Please change the shape of y to (n_samples,), for example using ravel().\n",
      "  return self._fit(X, y)\n"
     ]
    },
    {
     "name": "stdout",
     "output_type": "stream",
     "text": [
      "              precision    recall  f1-score   support\n",
      "\n",
      "           0       0.94      0.61      0.74      1036\n",
      "           1       0.65      0.95      0.77       793\n",
      "\n",
      "    accuracy                           0.76      1829\n",
      "   macro avg       0.80      0.78      0.76      1829\n",
      "weighted avg       0.82      0.76      0.76      1829\n",
      "\n"
     ]
    },
    {
     "name": "stderr",
     "output_type": "stream",
     "text": [
      "/home/louda622/.local/lib/python3.8/site-packages/sklearn/neighbors/_classification.py:198: DataConversionWarning: A column-vector y was passed when a 1d array was expected. Please change the shape of y to (n_samples,), for example using ravel().\n",
      "  return self._fit(X, y)\n"
     ]
    },
    {
     "name": "stdout",
     "output_type": "stream",
     "text": [
      "              precision    recall  f1-score   support\n",
      "\n",
      "           0       0.95      0.59      0.73      1036\n",
      "           1       0.64      0.96      0.77       793\n",
      "\n",
      "    accuracy                           0.75      1829\n",
      "   macro avg       0.79      0.77      0.75      1829\n",
      "weighted avg       0.81      0.75      0.75      1829\n",
      "\n"
     ]
    },
    {
     "name": "stderr",
     "output_type": "stream",
     "text": [
      "/home/louda622/.local/lib/python3.8/site-packages/sklearn/neighbors/_classification.py:198: DataConversionWarning: A column-vector y was passed when a 1d array was expected. Please change the shape of y to (n_samples,), for example using ravel().\n",
      "  return self._fit(X, y)\n"
     ]
    },
    {
     "name": "stdout",
     "output_type": "stream",
     "text": [
      "              precision    recall  f1-score   support\n",
      "\n",
      "           0       0.93      0.60      0.73      1036\n",
      "           1       0.64      0.94      0.76       793\n",
      "\n",
      "    accuracy                           0.75      1829\n",
      "   macro avg       0.79      0.77      0.75      1829\n",
      "weighted avg       0.81      0.75      0.74      1829\n",
      "\n"
     ]
    },
    {
     "name": "stderr",
     "output_type": "stream",
     "text": [
      "/home/louda622/.local/lib/python3.8/site-packages/sklearn/neighbors/_classification.py:198: DataConversionWarning: A column-vector y was passed when a 1d array was expected. Please change the shape of y to (n_samples,), for example using ravel().\n",
      "  return self._fit(X, y)\n"
     ]
    },
    {
     "name": "stdout",
     "output_type": "stream",
     "text": [
      "              precision    recall  f1-score   support\n",
      "\n",
      "           0       0.95      0.60      0.74      1037\n",
      "           1       0.65      0.96      0.77       792\n",
      "\n",
      "    accuracy                           0.76      1829\n",
      "   macro avg       0.80      0.78      0.76      1829\n",
      "weighted avg       0.82      0.76      0.75      1829\n",
      "\n"
     ]
    },
    {
     "name": "stderr",
     "output_type": "stream",
     "text": [
      "/home/louda622/.local/lib/python3.8/site-packages/sklearn/neighbors/_classification.py:198: DataConversionWarning: A column-vector y was passed when a 1d array was expected. Please change the shape of y to (n_samples,), for example using ravel().\n",
      "  return self._fit(X, y)\n"
     ]
    },
    {
     "name": "stdout",
     "output_type": "stream",
     "text": [
      "              precision    recall  f1-score   support\n",
      "\n",
      "           0       0.93      0.61      0.73      1036\n",
      "           1       0.65      0.94      0.77       792\n",
      "\n",
      "    accuracy                           0.75      1828\n",
      "   macro avg       0.79      0.77      0.75      1828\n",
      "weighted avg       0.81      0.75      0.75      1828\n",
      "\n"
     ]
    },
    {
     "name": "stderr",
     "output_type": "stream",
     "text": [
      "/home/louda622/.local/lib/python3.8/site-packages/sklearn/neighbors/_classification.py:198: DataConversionWarning: A column-vector y was passed when a 1d array was expected. Please change the shape of y to (n_samples,), for example using ravel().\n",
      "  return self._fit(X, y)\n"
     ]
    },
    {
     "name": "stdout",
     "output_type": "stream",
     "text": [
      "              precision    recall  f1-score   support\n",
      "\n",
      "           0       0.93      0.62      0.75      1036\n",
      "           1       0.66      0.94      0.77       792\n",
      "\n",
      "    accuracy                           0.76      1828\n",
      "   macro avg       0.80      0.78      0.76      1828\n",
      "weighted avg       0.81      0.76      0.76      1828\n",
      "\n"
     ]
    },
    {
     "name": "stderr",
     "output_type": "stream",
     "text": [
      "/home/louda622/.local/lib/python3.8/site-packages/sklearn/neighbors/_classification.py:198: DataConversionWarning: A column-vector y was passed when a 1d array was expected. Please change the shape of y to (n_samples,), for example using ravel().\n",
      "  return self._fit(X, y)\n"
     ]
    },
    {
     "name": "stdout",
     "output_type": "stream",
     "text": [
      "              precision    recall  f1-score   support\n",
      "\n",
      "           0       0.94      0.59      0.73      1036\n",
      "           1       0.64      0.95      0.77       792\n",
      "\n",
      "    accuracy                           0.75      1828\n",
      "   macro avg       0.79      0.77      0.75      1828\n",
      "weighted avg       0.81      0.75      0.75      1828\n",
      "\n"
     ]
    },
    {
     "name": "stderr",
     "output_type": "stream",
     "text": [
      "/home/louda622/.local/lib/python3.8/site-packages/sklearn/neighbors/_classification.py:198: DataConversionWarning: A column-vector y was passed when a 1d array was expected. Please change the shape of y to (n_samples,), for example using ravel().\n",
      "  return self._fit(X, y)\n"
     ]
    },
    {
     "name": "stdout",
     "output_type": "stream",
     "text": [
      "              precision    recall  f1-score   support\n",
      "\n",
      "           0       0.94      0.61      0.74      1036\n",
      "           1       0.65      0.95      0.77       792\n",
      "\n",
      "    accuracy                           0.76      1828\n",
      "   macro avg       0.79      0.78      0.76      1828\n",
      "weighted avg       0.81      0.76      0.75      1828\n",
      "\n"
     ]
    },
    {
     "name": "stderr",
     "output_type": "stream",
     "text": [
      "/home/louda622/.local/lib/python3.8/site-packages/sklearn/neighbors/_classification.py:198: DataConversionWarning: A column-vector y was passed when a 1d array was expected. Please change the shape of y to (n_samples,), for example using ravel().\n",
      "  return self._fit(X, y)\n"
     ]
    },
    {
     "name": "stdout",
     "output_type": "stream",
     "text": [
      "              precision    recall  f1-score   support\n",
      "\n",
      "           0       0.94      0.61      0.74      1036\n",
      "           1       0.65      0.94      0.77       792\n",
      "\n",
      "    accuracy                           0.76      1828\n",
      "   macro avg       0.79      0.78      0.76      1828\n",
      "weighted avg       0.81      0.76      0.75      1828\n",
      "\n",
      "[0.74576271 0.75943138 0.74958994 0.7479497  0.75779114 0.75\n",
      " 0.76148796 0.74945295 0.7571116  0.75601751]\n"
     ]
    }
   ],
   "source": [
    "from sklearn.model_selection import cross_val_score\n",
    "from sklearn.metrics import classification_report, accuracy_score, make_scorer\n",
    "# Code from : https://stackoverflow.com/questions/42562146/classification-report-with-nested-cross-validation-in-sklearn-average-individua\n",
    "def classification_report_with_accuracy_score(y_true, y_pred):\n",
    "    print(classification_report(y_true, y_pred)) # print classification report\n",
    "    return accuracy_score(y_true, y_pred) # return accuracy score\n",
    "\n",
    "scores = cross_val_score(clf, X, y, cv=10,scoring=make_scorer(classification_report_with_accuracy_score))\n",
    "print(scores)"
   ]
  },
  {
   "cell_type": "code",
   "execution_count": 8,
   "metadata": {},
   "outputs": [
    {
     "name": "stdout",
     "output_type": "stream",
     "text": [
      "0.7534594898863796\n",
      "0.005209188741591631\n"
     ]
    }
   ],
   "source": [
    "import numpy as np\n",
    "print(np.average(scores))\n",
    "print(np.std(scores))"
   ]
  },
  {
   "cell_type": "code",
   "execution_count": 9,
   "metadata": {},
   "outputs": [
    {
     "name": "stdout",
     "output_type": "stream",
     "text": [
      "0.812\n",
      "0.755\n"
     ]
    }
   ],
   "source": [
    "#precision\n",
    "import numpy\n",
    "print(numpy.average([0.81, 0.81, 0.81, 0.81, 0.81, 0.82, 0.81, 0.81, 0.82, 0.81]))\n",
    "# recall\n",
    "print(numpy.average([0.76, 0.76, 0.75, 0.76, 0.75, 0.76, 0.75, 0.75, 0.76, 0.75]))"
   ]
  },
  {
   "cell_type": "code",
   "execution_count": null,
   "metadata": {},
   "outputs": [],
   "source": []
  }
 ],
 "metadata": {
  "kernelspec": {
   "display_name": "Python 3",
   "language": "python",
   "name": "python3"
  },
  "language_info": {
   "codemirror_mode": {
    "name": "ipython",
    "version": 3
   },
   "file_extension": ".py",
   "mimetype": "text/x-python",
   "name": "python",
   "nbconvert_exporter": "python",
   "pygments_lexer": "ipython3",
   "version": "3.8.10"
  }
 },
 "nbformat": 4,
 "nbformat_minor": 4
}
